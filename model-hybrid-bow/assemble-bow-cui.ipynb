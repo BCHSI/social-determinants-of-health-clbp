{
 "cells": [
  {
   "cell_type": "code",
   "execution_count": 1,
   "id": "edd74c80",
   "metadata": {},
   "outputs": [],
   "source": [
    "import spacy"
   ]
  },
  {
   "cell_type": "code",
   "execution_count": null,
   "id": "1143cf2f",
   "metadata": {},
   "outputs": [],
   "source": []
  },
  {
   "cell_type": "code",
   "execution_count": 2,
   "id": "fabcca86",
   "metadata": {},
   "outputs": [],
   "source": [
    "nlp = spacy.load(\"en_sdoh_bow\")\n",
    "# nlp = spacy.load(\"en_sdoh_bow_cui\")"
   ]
  },
  {
   "cell_type": "code",
   "execution_count": 3,
   "id": "287e865a",
   "metadata": {},
   "outputs": [],
   "source": [
    "text = \"Lives with wife in Berkely Hills. Drives to work\"\n",
    "text = \"Home Environment:  Lives with family  Work: disability\""
   ]
  },
  {
   "cell_type": "code",
   "execution_count": 4,
   "id": "c821a1b6",
   "metadata": {
    "scrolled": true
   },
   "outputs": [
    {
     "name": "stderr",
     "output_type": "stream",
     "text": [
      "/Users/dlituiev/anaconda3/envs/nlp3.9/lib/python3.9/site-packages/sklearn/feature_extraction/text.py:396: UserWarning: Your stop_words may be inconsistent with your preprocessing. Tokenizing the stop words generated tokens [\"'ll\", \"'ve\", 'I', 'far', 'win', 'would'] not in stop_words.\n",
      "  warnings.warn(\n"
     ]
    }
   ],
   "source": [
    "doc = nlp(text)"
   ]
  },
  {
   "cell_type": "code",
   "execution_count": 5,
   "id": "bebf6224",
   "metadata": {},
   "outputs": [
    {
     "name": "stdout",
     "output_type": "stream",
     "text": [
      "Home | Housing: Stably housed | 0.40932405160334867\n",
      "family | Social_isolation: Lives alone | 0.3447113028643509\n"
     ]
    }
   ],
   "source": [
    "for ent in doc.ents:\n",
    "    print(ent, ent.label_, ent._.score, sep=\" | \")"
   ]
  },
  {
   "cell_type": "markdown",
   "id": "3e2b07f6",
   "metadata": {},
   "source": [
    "## Add CUI module"
   ]
  },
  {
   "cell_type": "code",
   "execution_count": 6,
   "id": "82b0bf94",
   "metadata": {},
   "outputs": [],
   "source": [
    "dd = \"en_sdoh\"\n",
    "nlp_sdoh_ner = spacy.load(dd)"
   ]
  },
  {
   "cell_type": "code",
   "execution_count": 7,
   "id": "d96de61b",
   "metadata": {},
   "outputs": [],
   "source": [
    "sdoh_cui = nlp_sdoh_ner.pipeline[-1][1]"
   ]
  },
  {
   "cell_type": "code",
   "execution_count": 9,
   "id": "b71fcdd7",
   "metadata": {},
   "outputs": [],
   "source": [
    "# sdoh_cui.data"
   ]
  },
  {
   "cell_type": "code",
   "execution_count": 10,
   "id": "5a4b9f27",
   "metadata": {},
   "outputs": [],
   "source": [
    "sdoh_cui = nlp.add_pipe(\"sdoh_cui\")"
   ]
  },
  {
   "cell_type": "code",
   "execution_count": null,
   "id": "e86b9639",
   "metadata": {},
   "outputs": [],
   "source": [
    "# sdoh_cui.data"
   ]
  },
  {
   "cell_type": "code",
   "execution_count": 11,
   "id": "decebbec",
   "metadata": {},
   "outputs": [
    {
     "data": {
      "text/plain": [
       "[('tok2vec', <spacy.pipeline.tok2vec.Tok2Vec at 0x7fe26be58d00>),\n",
       " ('tagger', <spacy.pipeline.tagger.Tagger at 0x7fe26beee040>),\n",
       " ('parser', <spacy.pipeline.dep_parser.DependencyParser at 0x7fe26be8ee40>),\n",
       " ('attribute_ruler',\n",
       "  <spacy.pipeline.attributeruler.AttributeRuler at 0x7fe26bedb280>),\n",
       " ('lemmatizer',\n",
       "  <spacy.lang.en.lemmatizer.EnglishLemmatizer at 0x7fe26bed3780>),\n",
       " ('ner', <spacy.pipeline.ner.EntityRecognizer at 0x7fe26be8eeb0>),\n",
       " ('sdoh_bow', <en_sdoh_bow.sdoh_bow.Level2Predictor at 0x7fe22dbabe50>),\n",
       " ('sentencizer', <spacy.pipeline.sentencizer.Sentencizer at 0x7fe28cfeab40>),\n",
       " ('sdoh_cui', <en_sdoh.postprocess.SDOH at 0x7fe279d5b580>)]"
      ]
     },
     "execution_count": 11,
     "metadata": {},
     "output_type": "execute_result"
    }
   ],
   "source": [
    "nlp.pipeline"
   ]
  },
  {
   "cell_type": "code",
   "execution_count": 12,
   "id": "ee3ad3c3",
   "metadata": {},
   "outputs": [],
   "source": [
    "sdoh_cui = nlp.pipeline[-1][1]#.data"
   ]
  },
  {
   "cell_type": "code",
   "execution_count": 13,
   "id": "c7ba6d51",
   "metadata": {},
   "outputs": [
    {
     "data": {
      "text/plain": [
       "<en_sdoh.postprocess.SDOH at 0x7fe279d5b580>"
      ]
     },
     "execution_count": 13,
     "metadata": {},
     "output_type": "execute_result"
    }
   ],
   "source": [
    "from pathlib import Path\n",
    "sdoh_cui.from_disk(Path(\"/Users/dlituiev/repos/infocommons/social-determinants-of-health-cocoa/spacy-level-2/sdoh-with-cuis/sdoh_cui\"))"
   ]
  },
  {
   "cell_type": "code",
   "execution_count": 14,
   "id": "5e58bfdf",
   "metadata": {
    "scrolled": true
   },
   "outputs": [
    {
     "name": "stderr",
     "output_type": "stream",
     "text": [
      "WARNING:root:cannot find an entry for Home (Housing: Stably housed)\n"
     ]
    }
   ],
   "source": [
    "doc = nlp(text)"
   ]
  },
  {
   "cell_type": "code",
   "execution_count": 15,
   "id": "098729e0",
   "metadata": {},
   "outputs": [
    {
     "name": "stdout",
     "output_type": "stream",
     "text": [
      "Home | Housing: Stably housed | None | None | None | 0.40932405160334867\n",
      "family | Social_isolation: Lives alone | C0439044 | 105529008 | Lives alone (finding) | 0.3447113028643509\n"
     ]
    }
   ],
   "source": [
    "for ent in doc.ents:\n",
    "    print(ent, ent.label_, ent._.cui, ent._.snomed_ct, ent._.canonical_text, ent._.score, sep=\" | \")"
   ]
  },
  {
   "cell_type": "code",
   "execution_count": 16,
   "id": "01faeef8",
   "metadata": {},
   "outputs": [],
   "source": [
    "nlp.meta[\"name\"] = \"sdoh_bow_cui\""
   ]
  },
  {
   "cell_type": "code",
   "execution_count": 23,
   "id": "167e2e1a",
   "metadata": {},
   "outputs": [],
   "source": [
    "nlp.meta.update({\"name\":\"sdoh_bow_cui\",\n",
    "                  \"version\":\"0.0.2\",\n",
    "                  \"description\":\"Rule (Matcher) based Social determinants of health NER with a fine-grained window context bag-of-words classifier and a standard ontology extension interface (SNOMED_CT and CUI)\",\n",
    "                  \"author\":\"Benjamin Lacar, Dima Lituiev\",\n",
    "                  \"email\":\"d.lituiev@gmail.com\",\n",
    "                })"
   ]
  },
  {
   "cell_type": "code",
   "execution_count": 19,
   "id": "b8b9923c",
   "metadata": {},
   "outputs": [],
   "source": [
    "# nlp.meta\n",
    "!mkdir packages-spacy/sdoh_bow_cui/sdoh_bow\n",
    "!mkdir packages-spacy/sdoh_bow_cui/sdoh_cui"
   ]
  },
  {
   "cell_type": "code",
   "execution_count": 24,
   "id": "da270eb2",
   "metadata": {},
   "outputs": [],
   "source": [
    "nlp.to_disk(\"packages-spacy/sdoh_bow_cui\")"
   ]
  }
 ],
 "metadata": {
  "kernelspec": {
   "display_name": "nlp3.9@python",
   "language": "python",
   "name": "nlp3.9"
  },
  "language_info": {
   "codemirror_mode": {
    "name": "ipython",
    "version": 3
   },
   "file_extension": ".py",
   "mimetype": "text/x-python",
   "name": "python",
   "nbconvert_exporter": "python",
   "pygments_lexer": "ipython3",
   "version": "3.9.7"
  }
 },
 "nbformat": 4,
 "nbformat_minor": 5
}
